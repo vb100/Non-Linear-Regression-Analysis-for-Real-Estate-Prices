{
 "cells": [
  {
   "cell_type": "markdown",
   "metadata": {
    "deletable": true,
    "editable": true
   },
   "source": [
    "<h1>Non-linear regression analysis for Real Estate prices</h1></br>\n",
    "<p>Prepared by <b>Vytautas Bielinskas</b></p></br>\n",
    "<p>Last updated: <b>2018-07-24</b></p>"
   ]
  },
  {
   "cell_type": "markdown",
   "metadata": {},
   "source": [
    "<b>Plan of attack:</b>\n",
    "<li>#1 <u>Import modules and packages</u></li>\n",
    "<li>#2 <u>Load the dataset</u></li>\n",
    "<li>--> #2.1 Get the name of the area from dataset</li>\n",
    "<li>--> #2.2 Get some info on the dataset</li>\n",
    "<li>--> #2.3 Parse dates</li>\n",
    "<li>--> #2.4 Plot the raw dataset on a scatter plot</li>\n",
    "<li>--> #2.5 ECDF function</li>\n",
    "<li>--> #2.6 Input the threshold value for data cleaning</li>\n",
    "<li>--> #2.7 Remove marginal data (remove data noise !!!)</li>\n",
    "<li>--> #2.8 Plot dataframe on scatter plot again after data cleaning</li>\n",
    "<li>--> #2.9 Calculate Simple Moving Average (SMA)</li>\n",
    "<li>--> #2.10 Save the output to CSV file</li>\n",
    "<li>--> #2.11 Removing first step rows for Regression Analysis</li>\n",
    "<li>#3 <u>Linear regression analysis</u></li>\n",
    "<li>--> #3.1 Import modules</li>\n",
    "<li>--> #3.2 Set X and y varianbles</li>\n",
    "<li>--> #3.3 Note the difference in argument order</li>\n",
    "<li>--> #3.4 Print the model statistics</li>\n",
    "<li>#4 <u>Visualize trend for Linear Regression</u></li>\n",
    "<li>#5 <u>Determine additional metrics for the model</u></li>\n",
    "<li>--> #5.1 Calculate Pearson correlation coefficient</li>"
   ]
  },
  {
   "cell_type": "markdown",
   "metadata": {
    "deletable": true,
    "editable": true
   },
   "source": [
    "<h2>Data pre-processing part</h2>"
   ]
  },
  {
   "cell_type": "markdown",
   "metadata": {
    "deletable": true,
    "editable": true
   },
   "source": [
    "<h2># 1. Import modules and packages</h2>"
   ]
  },
  {
   "cell_type": "code",
   "execution_count": 1,
   "metadata": {
    "collapsed": true,
    "deletable": true,
    "editable": true
   },
   "outputs": [],
   "source": [
    "import os\n",
    "import numpy as np\n",
    "import pandas as pd\n",
    "import matplotlib.pyplot as plt\n",
    "import seaborn as sns\n",
    "from datetime import datetime, date, time\n",
    "from sklearn.linear_model import LinearRegression\n",
    "\n",
    "%matplotlib inline"
   ]
  },
  {
   "cell_type": "markdown",
   "metadata": {
    "deletable": true,
    "editable": true
   },
   "source": [
    "<h2>#2 Load the dataset</h2>"
   ]
  },
  {
   "cell_type": "code",
   "execution_count": 2,
   "metadata": {
    "collapsed": false,
    "deletable": true,
    "editable": true
   },
   "outputs": [],
   "source": [
    "cwd = os.getcwd()\n",
    "os.chdir(cwd)\n",
    "\n",
    "df = pd.read_csv('Liverpool_timestamp.csv')"
   ]
  },
  {
   "cell_type": "markdown",
   "metadata": {
    "deletable": true,
    "editable": true
   },
   "source": [
    "<h3>#2.1 Get the name of the area from dataset</h3>"
   ]
  },
  {
   "cell_type": "code",
   "execution_count": 3,
   "metadata": {
    "collapsed": false,
    "deletable": true,
    "editable": true
   },
   "outputs": [
    {
     "name": "stdout",
     "output_type": "stream",
     "text": [
      "Research area is Liverpool.\n"
     ]
    }
   ],
   "source": [
    "if 'liverpool'.upper() in df.iat[0, df.columns.get_loc('TOWN')].upper():\n",
    "    area = 'Liverpool'\n",
    "elif 'london'.upper() in df.iat[0, df.columns.get_loc('TOWN')].upper():\n",
    "    area = 'London'\n",
    "\n",
    "print('Research area is {}.'.format(area))"
   ]
  },
  {
   "cell_type": "code",
   "execution_count": 4,
   "metadata": {
    "collapsed": false,
    "deletable": true,
    "editable": true
   },
   "outputs": [
    {
     "data": {
      "text/html": [
       "<div>\n",
       "<table border=\"1\" class=\"dataframe\">\n",
       "  <thead>\n",
       "    <tr style=\"text-align: right;\">\n",
       "      <th></th>\n",
       "      <th>TOWN</th>\n",
       "      <th>ADDRESS</th>\n",
       "      <th>Times sold</th>\n",
       "      <th>Sold date</th>\n",
       "      <th>Sold price</th>\n",
       "    </tr>\n",
       "  </thead>\n",
       "  <tbody>\n",
       "    <tr>\n",
       "      <th>0</th>\n",
       "      <td>Liverpool</td>\n",
       "      <td>AIRLIE GARDENS 3</td>\n",
       "      <td>2</td>\n",
       "      <td>11-10-2014</td>\n",
       "      <td>490000</td>\n",
       "    </tr>\n",
       "    <tr>\n",
       "      <th>1</th>\n",
       "      <td>Liverpool</td>\n",
       "      <td>AIRLIE GARDENS 3</td>\n",
       "      <td>2</td>\n",
       "      <td>2-20-2017</td>\n",
       "      <td>635000</td>\n",
       "    </tr>\n",
       "    <tr>\n",
       "      <th>2</th>\n",
       "      <td>Liverpool</td>\n",
       "      <td>ARGYLE ROAD 37C</td>\n",
       "      <td>2</td>\n",
       "      <td>12-23-2014</td>\n",
       "      <td>124500</td>\n",
       "    </tr>\n",
       "    <tr>\n",
       "      <th>3</th>\n",
       "      <td>Liverpool</td>\n",
       "      <td>ARGYLE ROAD 37C</td>\n",
       "      <td>2</td>\n",
       "      <td>2-1-2017</td>\n",
       "      <td>178000</td>\n",
       "    </tr>\n",
       "    <tr>\n",
       "      <th>4</th>\n",
       "      <td>Liverpool</td>\n",
       "      <td>ARGYLE ROAD 43D</td>\n",
       "      <td>2</td>\n",
       "      <td>1-7-2014</td>\n",
       "      <td>121000</td>\n",
       "    </tr>\n",
       "  </tbody>\n",
       "</table>\n",
       "</div>"
      ],
      "text/plain": [
       "        TOWN            ADDRESS  Times sold   Sold date  Sold price\n",
       "0  Liverpool  AIRLIE GARDENS 3            2  11-10-2014      490000\n",
       "1  Liverpool  AIRLIE GARDENS 3            2   2-20-2017      635000\n",
       "2  Liverpool   ARGYLE ROAD 37C            2  12-23-2014      124500\n",
       "3  Liverpool   ARGYLE ROAD 37C            2    2-1-2017      178000\n",
       "4  Liverpool   ARGYLE ROAD 43D            2    1-7-2014      121000"
      ]
     },
     "execution_count": 4,
     "metadata": {},
     "output_type": "execute_result"
    }
   ],
   "source": [
    "df.head()"
   ]
  },
  {
   "cell_type": "markdown",
   "metadata": {
    "deletable": true,
    "editable": true
   },
   "source": [
    "<h3>#2.2 Get some info on the dataset</h3>"
   ]
  },
  {
   "cell_type": "code",
   "execution_count": 5,
   "metadata": {
    "collapsed": false,
    "deletable": true,
    "editable": true
   },
   "outputs": [
    {
     "name": "stdout",
     "output_type": "stream",
     "text": [
      "<class 'pandas.core.frame.DataFrame'>\n",
      "RangeIndex: 269 entries, 0 to 268\n",
      "Data columns (total 5 columns):\n",
      "TOWN          269 non-null object\n",
      "ADDRESS       269 non-null object\n",
      "Times sold    269 non-null int64\n",
      "Sold date     269 non-null object\n",
      "Sold price    269 non-null int64\n",
      "dtypes: int64(2), object(3)\n",
      "memory usage: 7.4+ KB\n"
     ]
    }
   ],
   "source": [
    "df.info()"
   ]
  },
  {
   "cell_type": "code",
   "execution_count": 6,
   "metadata": {
    "collapsed": false,
    "deletable": true,
    "editable": true
   },
   "outputs": [
    {
     "data": {
      "text/plain": [
       "count    2.690000e+02\n",
       "mean     2.829197e+05\n",
       "std      1.386034e+05\n",
       "min      6.400000e+04\n",
       "25%      1.860000e+05\n",
       "50%      2.525000e+05\n",
       "75%      3.500000e+05\n",
       "max      1.157500e+06\n",
       "Name: Sold price, dtype: float64"
      ]
     },
     "execution_count": 6,
     "metadata": {},
     "output_type": "execute_result"
    }
   ],
   "source": [
    "df['Sold price'].describe()"
   ]
  },
  {
   "cell_type": "markdown",
   "metadata": {
    "deletable": true,
    "editable": true
   },
   "source": [
    "<h3># 2.3 Parse dates</h3>"
   ]
  },
  {
   "cell_type": "code",
   "execution_count": 9,
   "metadata": {
    "collapsed": true,
    "deletable": true,
    "editable": true
   },
   "outputs": [],
   "source": [
    "def parseDates(df):\n",
    "      \n",
    "    \"\"\" \n",
    "    This procedure will parse the date columns by using \n",
    "    strftime function. \n",
    "    \"\"\"\n",
    "    \n",
    "    today = datetime.now()\n",
    "    print('Today is {}, ({})'.format(today,\n",
    "                              type(today)))\n",
    "    \n",
    "    index_of_dates = df.columns.get_loc('Sold date')\n",
    "    print('The index of Sold dates is {}.\\n'.format(index_of_dates))\n",
    "    \n",
    "    # Insert parsed date to the dataframe\n",
    "    try:\n",
    "        df.insert(index_of_dates, 'Date', None)\n",
    "    except:\n",
    "        print('Column already exist.')\n",
    "        \n",
    "    # Insert day_ago column to the dataframe\n",
    "    try:\n",
    "        df.insert(index_of_dates+1, 'Days after 1st timestamp', None)\n",
    "    except:\n",
    "        print('Column already exist.\\n')\n",
    "        \n",
    "    index_of_parsed_dates = df.columns.get_loc('Date')\n",
    "    index_of_delta_dates = df.columns.get_loc('Days after 1st timestamp')\n",
    "    index_of_price = df.columns.get_loc('Sold price')\n",
    "    \n",
    "    for row in range(0, len(df), 1):\n",
    "        df.iat[row, index_of_parsed_dates] = datetime.strptime(df.iat[row, index_of_dates], '%m-%d-%Y')\n",
    "        df.iat[row, index_of_delta_dates] = float(str(today - df.iat[row, index_of_parsed_dates]).split(' days')[0]) + 1.0\n",
    "        \n",
    "        df.iat[row, index_of_price] = float(df.iat[row, index_of_price])\n",
    "        \n",
    "    df = df.sort_values(by='Days after 1st timestamp', ascending=True)\n",
    "    \n",
    "    max_day = df['Days after 1st timestamp'].max()\n",
    "    print('The max. day after 1st timestamp is {}.'.format(max_day))\n",
    "    \n",
    "    for row in range(0, len(df), 1):\n",
    "        df.iat[row, index_of_delta_dates] = float(max_day - df.iat[row, index_of_delta_dates])\n",
    "        \n",
    "    df['Days after 1st timestamp'] = df['Days after 1st timestamp'].astype('int64')\n",
    "\n",
    "    return df"
   ]
  },
  {
   "cell_type": "code",
   "execution_count": 10,
   "metadata": {
    "collapsed": false,
    "deletable": true,
    "editable": true
   },
   "outputs": [
    {
     "name": "stdout",
     "output_type": "stream",
     "text": [
      "Today is 2018-07-24 21:19:19.538639, (<class 'datetime.datetime'>)\n",
      "The index of Sold dates is 5.\n",
      "\n",
      "Column already exist.\n",
      "Column already exist.\n",
      "\n",
      "The max. day after 1st timestamp is 3849.0.\n"
     ]
    }
   ],
   "source": [
    "df = parseDates(df)"
   ]
  },
  {
   "cell_type": "code",
   "execution_count": 11,
   "metadata": {
    "collapsed": false,
    "deletable": true,
    "editable": true
   },
   "outputs": [
    {
     "data": {
      "text/html": [
       "<div>\n",
       "<table border=\"1\" class=\"dataframe\">\n",
       "  <thead>\n",
       "    <tr style=\"text-align: right;\">\n",
       "      <th></th>\n",
       "      <th>TOWN</th>\n",
       "      <th>ADDRESS</th>\n",
       "      <th>Times sold</th>\n",
       "      <th>Date</th>\n",
       "      <th>Days after 1st timestamp</th>\n",
       "      <th>Sold date</th>\n",
       "      <th>Sold price</th>\n",
       "    </tr>\n",
       "  </thead>\n",
       "  <tbody>\n",
       "    <tr>\n",
       "      <th>139</th>\n",
       "      <td>Liverpool</td>\n",
       "      <td>Liverpool HILL ICON BUILDING 39 FLAT 77</td>\n",
       "      <td>2</td>\n",
       "      <td>2018-04-27 00:00:00</td>\n",
       "      <td>3760</td>\n",
       "      <td>4-27-2018</td>\n",
       "      <td>365000</td>\n",
       "    </tr>\n",
       "    <tr>\n",
       "      <th>98</th>\n",
       "      <td>Liverpool</td>\n",
       "      <td>GREEN LANE 40</td>\n",
       "      <td>2</td>\n",
       "      <td>2018-04-26 00:00:00</td>\n",
       "      <td>3759</td>\n",
       "      <td>4-26-2018</td>\n",
       "      <td>375000</td>\n",
       "    </tr>\n",
       "    <tr>\n",
       "      <th>13</th>\n",
       "      <td>Liverpool</td>\n",
       "      <td>AUDREY ROAD 7</td>\n",
       "      <td>2</td>\n",
       "      <td>2018-04-20 00:00:00</td>\n",
       "      <td>3753</td>\n",
       "      <td>4-20-2018</td>\n",
       "      <td>430000</td>\n",
       "    </tr>\n",
       "    <tr>\n",
       "      <th>220</th>\n",
       "      <td>Liverpool</td>\n",
       "      <td>SELBORNE ROAD 11B</td>\n",
       "      <td>2</td>\n",
       "      <td>2018-04-20 00:00:00</td>\n",
       "      <td>3753</td>\n",
       "      <td>4-20-2018</td>\n",
       "      <td>300000</td>\n",
       "    </tr>\n",
       "    <tr>\n",
       "      <th>24</th>\n",
       "      <td>Liverpool</td>\n",
       "      <td>BENTON ROAD 18</td>\n",
       "      <td>2</td>\n",
       "      <td>2018-04-06 00:00:00</td>\n",
       "      <td>3739</td>\n",
       "      <td>4-6-2018</td>\n",
       "      <td>260000</td>\n",
       "    </tr>\n",
       "    <tr>\n",
       "      <th>168</th>\n",
       "      <td>Liverpool</td>\n",
       "      <td>MELBOURNE ROAD 16</td>\n",
       "      <td>2</td>\n",
       "      <td>2018-03-29 00:00:00</td>\n",
       "      <td>3731</td>\n",
       "      <td>3-29-2018</td>\n",
       "      <td>725000</td>\n",
       "    </tr>\n",
       "    <tr>\n",
       "      <th>226</th>\n",
       "      <td>Liverpool</td>\n",
       "      <td>SOUTH PARK CRESCENT 2</td>\n",
       "      <td>2</td>\n",
       "      <td>2018-03-26 00:00:00</td>\n",
       "      <td>3728</td>\n",
       "      <td>3-26-2018</td>\n",
       "      <td>413000</td>\n",
       "    </tr>\n",
       "    <tr>\n",
       "      <th>230</th>\n",
       "      <td>Liverpool</td>\n",
       "      <td>STAINES ROAD 244</td>\n",
       "      <td>2</td>\n",
       "      <td>2018-03-23 00:00:00</td>\n",
       "      <td>3725</td>\n",
       "      <td>3-23-2018</td>\n",
       "      <td>220000</td>\n",
       "    </tr>\n",
       "    <tr>\n",
       "      <th>155</th>\n",
       "      <td>Liverpool</td>\n",
       "      <td>KINGSTON ROAD 266</td>\n",
       "      <td>2</td>\n",
       "      <td>2018-03-23 00:00:00</td>\n",
       "      <td>3725</td>\n",
       "      <td>3-23-2018</td>\n",
       "      <td>405000</td>\n",
       "    </tr>\n",
       "    <tr>\n",
       "      <th>228</th>\n",
       "      <td>Liverpool</td>\n",
       "      <td>ST MARYS ROAD 32</td>\n",
       "      <td>2</td>\n",
       "      <td>2018-03-16 00:00:00</td>\n",
       "      <td>3718</td>\n",
       "      <td>3-16-2018</td>\n",
       "      <td>390000</td>\n",
       "    </tr>\n",
       "  </tbody>\n",
       "</table>\n",
       "</div>"
      ],
      "text/plain": [
       "          TOWN                                  ADDRESS  Times sold  \\\n",
       "139  Liverpool  Liverpool HILL ICON BUILDING 39 FLAT 77           2   \n",
       "98   Liverpool                           GREEN LANE 40            2   \n",
       "13   Liverpool                           AUDREY ROAD 7            2   \n",
       "220  Liverpool                       SELBORNE ROAD 11B            2   \n",
       "24   Liverpool                          BENTON ROAD 18            2   \n",
       "168  Liverpool                       MELBOURNE ROAD 16            2   \n",
       "226  Liverpool                   SOUTH PARK CRESCENT 2            2   \n",
       "230  Liverpool                        STAINES ROAD 244            2   \n",
       "155  Liverpool                       KINGSTON ROAD 266            2   \n",
       "228  Liverpool                        ST MARYS ROAD 32            2   \n",
       "\n",
       "                    Date  Days after 1st timestamp  Sold date  Sold price  \n",
       "139  2018-04-27 00:00:00                      3760  4-27-2018      365000  \n",
       "98   2018-04-26 00:00:00                      3759  4-26-2018      375000  \n",
       "13   2018-04-20 00:00:00                      3753  4-20-2018      430000  \n",
       "220  2018-04-20 00:00:00                      3753  4-20-2018      300000  \n",
       "24   2018-04-06 00:00:00                      3739   4-6-2018      260000  \n",
       "168  2018-03-29 00:00:00                      3731  3-29-2018      725000  \n",
       "226  2018-03-26 00:00:00                      3728  3-26-2018      413000  \n",
       "230  2018-03-23 00:00:00                      3725  3-23-2018      220000  \n",
       "155  2018-03-23 00:00:00                      3725  3-23-2018      405000  \n",
       "228  2018-03-16 00:00:00                      3718  3-16-2018      390000  "
      ]
     },
     "execution_count": 11,
     "metadata": {},
     "output_type": "execute_result"
    }
   ],
   "source": [
    "df.head(10)"
   ]
  },
  {
   "cell_type": "code",
   "execution_count": 12,
   "metadata": {
    "collapsed": false,
    "deletable": true,
    "editable": true
   },
   "outputs": [
    {
     "data": {
      "text/plain": [
       "count     269.000000\n",
       "mean     2561.843866\n",
       "std      1226.212889\n",
       "min         0.000000\n",
       "25%      1866.000000\n",
       "50%      3303.000000\n",
       "75%      3514.000000\n",
       "max      3760.000000\n",
       "Name: Days after 1st timestamp, dtype: float64"
      ]
     },
     "execution_count": 12,
     "metadata": {},
     "output_type": "execute_result"
    }
   ],
   "source": [
    "df['Days after 1st timestamp'].describe()"
   ]
  },
  {
   "cell_type": "markdown",
   "metadata": {
    "deletable": true,
    "editable": true
   },
   "source": [
    "<h3># 2.4. Plot the raw dataset on scatter plot</h3>"
   ]
  },
  {
   "cell_type": "code",
   "execution_count": 13,
   "metadata": {
    "collapsed": true,
    "deletable": true,
    "editable": true
   },
   "outputs": [],
   "source": [
    "def visualize_scatters(df, area):\n",
    "    \n",
    "    # Set the labels for plots\n",
    "    title = 'Price changes in {} (© UK Land Registry API)'.format(area)\n",
    "    x_label = 'Sold date'\n",
    "    y_label = 'Sold price (£)'\n",
    "    \n",
    "    # Plot the scatter with Seaborn\n",
    "    plt.figure(figsize=(8,5))\n",
    "    sns.set(style=\"darkgrid\")\n",
    "    \n",
    "    sns.regplot('Days after 1st timestamp', 'Sold price', df)\n",
    "    plt.title(title)\n",
    "    plt.xlabel(x_label)\n",
    "    plt.ylabel(y_label) \n",
    "        \n",
    "    # Plot the same scatter plot in matplotlib\n",
    "    timeline = pd.Series(df['Sold price'].values, index = df['Date'])\n",
    "    plt.figure(figsize=(8,5))\n",
    "    plt.title(title)\n",
    "    plt.xlabel(x_label)\n",
    "    plt.ylabel(y_label)\n",
    "    timeline.plot(style = 'k.', c = '#113b6c')\n",
    "    plt.show()\n",
    "    return None"
   ]
  },
  {
   "cell_type": "code",
   "execution_count": 14,
   "metadata": {
    "collapsed": false,
    "deletable": true,
    "editable": true,
    "scrolled": true
   },
   "outputs": [
    {
     "data": {
      "image/png": "[encoded data removed]",
      "text/plain": [
       "<matplotlib.figure.Figure at 0x1351ead0>"
      ]
     },
     "metadata": {},
     "output_type": "display_data"
    },
    {
     "data": {
      "image/png": "[encoded data removed]",
      "text/plain": [
       "<matplotlib.figure.Figure at 0x1356b630>"
      ]
     },
     "metadata": {},
     "output_type": "display_data"
    }
   ],
   "source": [
    "visualize_scatters(df, area)"
   ]
  },
  {
   "cell_type": "markdown",
   "metadata": {
    "deletable": true,
    "editable": true
   },
   "source": [
    "<h3> # 2.5 <code>ECDF</code> function</h3>"
   ]
  },
  {
   "cell_type": "code",
   "execution_count": 15,
   "metadata": {
    "collapsed": true,
    "deletable": true,
    "editable": true
   },
   "outputs": [],
   "source": [
    "def ecdf(data):\n",
    "    \"\"\"Compute ECDF for a one-dimensional array of measurements.\"\"\"\n",
    "\n",
    "    # Number of data points: n\n",
    "    n = len(data)\n",
    "\n",
    "    # x-data for the ECDF: x\n",
    "    x = np.sort(data)\n",
    "\n",
    "    # y-data for the ECDF: y\n",
    "    y = np.arange(1, len(x)+1) / n\n",
    "\n",
    "    return x, y"
   ]
  },
  {
   "cell_type": "markdown",
   "metadata": {
    "deletable": true,
    "editable": true
   },
   "source": [
    "<h3> # 2.6 Input the <code>threshold<code> value for data cleaning </h3>\n",
    "<p><code>threshold</code> must be less than 0.5. \n",
    "0.1 correspond to 10 %, 0.25 correspond to 25 % and so on.</p>"
   ]
  },
  {
   "cell_type": "code",
   "execution_count": 16,
   "metadata": {
    "collapsed": false,
    "deletable": true,
    "editable": true
   },
   "outputs": [
    {
     "name": "stdout",
     "output_type": "stream",
     "text": [
      "\n",
      "Input the value for threshold.\n",
      "0.05\n",
      "You entered 0.05 (<class 'float'>) for threshold value.\n"
     ]
    }
   ],
   "source": [
    "try:\n",
    "    threshold = float(input('\\nInput the value for threshold.\\n'))\n",
    "    print('You entered {} ({}) for threshold value.'.format(threshold,\n",
    "                                                           type(threshold)))\n",
    "except:\n",
    "    print('\\nFormat of value is not float or a number.')"
   ]
  },
  {
   "cell_type": "code",
   "execution_count": 17,
   "metadata": {
    "collapsed": false,
    "deletable": true,
    "editable": true
   },
   "outputs": [
    {
     "data": {
      "image/png": "[encoded data removed]",
      "text/plain": [
       "<matplotlib.figure.Figure at 0x135fceb0>"
      ]
     },
     "metadata": {},
     "output_type": "display_data"
    }
   ],
   "source": [
    "import matplotlib.patches as mpatches\n",
    "\n",
    "# Set color gamma manually\n",
    "primary_color = '#ff4455'\n",
    "secondary_color = '#ff8899'\n",
    "value_color = '#113b6c'\n",
    "\n",
    "x, y = ecdf(df['Sold price'])\n",
    "\n",
    "# Generate plot\n",
    "sns.set_style('darkgrid')\n",
    "\n",
    "# Set plot size\n",
    "_ = plt.rcParams['figure.figsize'] = (8,5)\n",
    "\n",
    "_ = plt.plot(x, y, marker='.', linestyle='none', color = value_color, alpha = 0.8)\n",
    "\n",
    "# Make the margins nice\n",
    "_ = plt.margins(0.02)\n",
    "\n",
    "# Label the axes\n",
    "_ = plt.xlabel('Sold price (£)', fontsize = 12, family='Arial')\n",
    "_ = plt.ylabel('ECDF', fontsize = 12)\n",
    "\n",
    "# Overlay percentiles as red diamonds.\n",
    "percentiles = np.array([50])\n",
    "df_perc = np.percentile(df['Sold price'], percentiles)\n",
    "\n",
    "# Calculate quartiles of the values\n",
    "quarts = df['Sold price'].quantile([threshold, 1 - threshold])\n",
    "quart_1 = quarts.iloc[0]\n",
    "quart_2 = quarts.iloc[1]\n",
    "\n",
    "_ = plt.plot(df_perc, percentiles/100, marker='D', color='red', linestyle='none', markersize = 10)\n",
    "\n",
    "# Draw vertical line on a plot\n",
    "_ = plt.axvline(x = df_perc, color = primary_color)\n",
    "_ = plt.axvline(x = quart_1, color = secondary_color, linestyle = '--')\n",
    "_ = plt.axvline(x = quart_2, color = secondary_color, linestyle = '--')\n",
    "\n",
    "\n",
    "# Draw a horizontal line on a plot\n",
    "_ = plt.axhline(y = 0.5, color = primary_color)\n",
    "_ = plt.axhline(y = threshold, color = secondary_color, linestyle = '--')\n",
    "_ = plt.axhline(y = 1 - threshold, color = secondary_color, linestyle = '--')\n",
    "\n",
    "plt.tick_params(labelsize=12)\n",
    "\n",
    "# Set axis style\n",
    "_ = plt.grid(b=True, which='major', color='#cccccc', linestyle='--')\n",
    "\n",
    "# Add legend\n",
    "patch = mpatches.Patch(color = value_color, label='Dataset')\n",
    "\n",
    "_ = plt.legend(handles=[patch], loc = 'lower right', fontsize = 14)\n",
    "\n",
    "# Display the plot\n",
    "plt.show()"
   ]
  },
  {
   "cell_type": "markdown",
   "metadata": {
    "deletable": true,
    "editable": true
   },
   "source": [
    "<h3> # 2.7 Remove marginal data (remove data noise !!!)</h3>"
   ]
  },
  {
   "cell_type": "code",
   "execution_count": 19,
   "metadata": {
    "collapsed": true,
    "deletable": true,
    "editable": true
   },
   "outputs": [],
   "source": [
    "def remove_data_noise(df, quart_1, quart_2):\n",
    "    print('Removing data noise\\n')\n",
    "    print('Quartile 1: {}.'.format(quart_1))\n",
    "    print('Quartile 2: {}.'.format(quart_2))\n",
    "    \n",
    "    print('\\nThe size of datafreme before data cleaning: {} items.'.format(len(df)))\n",
    "    \n",
    "    df = df[(df['Sold price'] > quart_1) & ((df['Sold price'] < quart_2))]\n",
    "    \n",
    "    print('The size of dataframe after data cleaning: {} items.'.format(len(df)))\n",
    "    return df"
   ]
  },
  {
   "cell_type": "code",
   "execution_count": 20,
   "metadata": {
    "collapsed": false,
    "deletable": true,
    "editable": true
   },
   "outputs": [
    {
     "name": "stdout",
     "output_type": "stream",
     "text": [
      "Removing data noise\n",
      "\n",
      "Quartile 1: 128800.0.\n",
      "Quartile 2: 549299.9999999999.\n",
      "\n",
      "The size of datafreme before data cleaning: 269 items.\n",
      "The size of dataframe after data cleaning: 241 items.\n"
     ]
    }
   ],
   "source": [
    "df_cleaned = remove_data_noise(df, quart_1, quart_2)"
   ]
  },
  {
   "cell_type": "code",
   "execution_count": 22,
   "metadata": {
    "collapsed": false,
    "deletable": true,
    "editable": true
   },
   "outputs": [
    {
     "data": {
      "text/plain": [
       "241"
      ]
     },
     "execution_count": 22,
     "metadata": {},
     "output_type": "execute_result"
    }
   ],
   "source": [
    "len(df_cleaned)"
   ]
  },
  {
   "cell_type": "markdown",
   "metadata": {
    "deletable": true,
    "editable": true
   },
   "source": [
    "<h3># 2.8 Plot dataframe on scatter plot again after data cleaning</h3>"
   ]
  },
  {
   "cell_type": "code",
   "execution_count": 23,
   "metadata": {
    "collapsed": false,
    "deletable": true,
    "editable": true
   },
   "outputs": [
    {
     "data": {
      "image/png": "[encoded data removed]",
      "text/plain": [
       "<matplotlib.figure.Figure at 0x13627ed0>"
      ]
     },
     "metadata": {},
     "output_type": "display_data"
    },
    {
     "data": {
      "image/png": "[encoded data removed]",
      "text/plain": [
       "<matplotlib.figure.Figure at 0x1367f970>"
      ]
     },
     "metadata": {},
     "output_type": "display_data"
    }
   ],
   "source": [
    "visualize_scatters(df_cleaned, area)"
   ]
  },
  {
   "cell_type": "markdown",
   "metadata": {
    "deletable": true,
    "editable": true
   },
   "source": [
    "<h3>#2.9 Calculate Simple Moving Average (SMA)</h3>"
   ]
  },
  {
   "cell_type": "code",
   "execution_count": 24,
   "metadata": {
    "collapsed": true,
    "deletable": true,
    "editable": true
   },
   "outputs": [],
   "source": [
    "def moving_average(values, window):\n",
    "    \n",
    "    \"\"\" This procedure will calculate a Numpy array\n",
    "    with values of calculated SMA\n",
    "    \"\"\"\n",
    "    \n",
    "    weights = np.repeat(1.0, window) / window\n",
    "    smas = np.convolve(values, weights, 'valid')\n",
    "    return smas"
   ]
  },
  {
   "cell_type": "code",
   "execution_count": 25,
   "metadata": {
    "collapsed": true,
    "deletable": true,
    "editable": true
   },
   "outputs": [],
   "source": [
    "def add_SMA_to_df(step, sma, df):\n",
    "    \n",
    "    \"\"\" This procedure add extra culumn to existing dataframe\n",
    "    to put there values of SMA calculated in moving_average\n",
    "    procedure.\n",
    "    \"\"\"\n",
    "    \n",
    "    try:\n",
    "        df.insert(len(df.columns), 'SMA', None)\n",
    "    except:\n",
    "        print('\\nThe columns already exists.')\n",
    "    \n",
    "    index_of_sma = df.columns.get_loc('SMA')\n",
    "    print('\\nIndex of SMA column in a dataframe is {}.\\n'.format(index_of_sma))\n",
    "    i = 0\n",
    "    \n",
    "    for row in range(0, len(df), 1):\n",
    "        if row >= step:\n",
    "            df.iat[row, index_of_sma] = sma[i]\n",
    "            i = i + 1\n",
    "            \n",
    "    print('{}\\n\\nColumns are: {}.'.format(df.head(step+3),\n",
    "                                        df.columns))\n",
    "    \n",
    "    return df"
   ]
  },
  {
   "cell_type": "code",
   "execution_count": 27,
   "metadata": {
    "collapsed": true,
    "deletable": true,
    "editable": true
   },
   "outputs": [],
   "source": [
    "def plot_SMA(df, step, area):\n",
    "    \n",
    "    \"\"\" This procedure plot the SMA if it exsist on the dataframe.\n",
    "    Reccomending use after moving_average and add_SMA_to_df procedures\n",
    "    has being applied.\n",
    "    \"\"\"\n",
    "    \n",
    "    # Set the labels for plots\n",
    "    title = 'Price changes in {} (© UK Land Registry API)\\n(Moving Average, step = {} days.'.format(area,\n",
    "                                                                                                    step)\n",
    "    x_label = 'Sold date'\n",
    "    y_label = 'Sold price (£)'\n",
    "    \n",
    "    timeline_1 = pd.Series(df['Sold price'].values, index = df['Date'])\n",
    "    timeline_2 = pd.Series(df['SMA'].values, index = df['Date'])\n",
    "    plt.figure(figsize=(8,5))\n",
    "    plt.title(title)\n",
    "    plt.xlabel(x_label)\n",
    "    plt.ylabel(y_label)\n",
    "    timeline_1.plot(style = 'k.', c = '#113b6c')\n",
    "    timeline_2.plot(c = '#b348d2')\n",
    "    plt.show()    \n",
    "    \n",
    "    return None"
   ]
  },
  {
   "cell_type": "markdown",
   "metadata": {
    "deletable": true,
    "editable": true
   },
   "source": [
    "<p>Enter the step for SMA (in days).</p>"
   ]
  },
  {
   "cell_type": "code",
   "execution_count": 28,
   "metadata": {
    "collapsed": false,
    "deletable": true,
    "editable": true
   },
   "outputs": [
    {
     "name": "stdout",
     "output_type": "stream",
     "text": [
      "Values of SMA are:\n",
      "[ 331177.27272727  330040.90909091  330040.90909091  334131.81818182\n",
      "  331131.81818182  328404.54545455  330995.45454545  329631.81818182\n",
      "  319677.27272727  314904.54545455  315154.54545455  310381.81818182\n",
      "  315836.36363636  315245.45454545  311813.63636364  312154.54545455\n",
      "  308472.72727273  316472.72727273  309427.27272727  314200.\n",
      "  315654.54545455  319290.90909091  318931.81818182  320295.45454545\n",
      "  318250.          309704.54545455  308613.63636364  314431.81818182\n",
      "  302840.90909091  312159.09090909  320068.18181818  318704.54545455\n",
      "  325409.09090909  319045.45454545  322909.09090909  326545.45454545\n",
      "  328590.90909091  328136.36363636  337181.81818182  322636.36363636\n",
      "  329000.          326818.18181818  324954.54545455  327545.45454545\n",
      "  320954.54545455  318681.81818182  317318.18181818  308590.90909091\n",
      "  306318.18181818  304000.          301386.36363636  300250.\n",
      "  295022.72727273  291113.63636364  285659.09090909  299295.45454545\n",
      "  303159.09090909  299977.27272727  290340.90909091  294431.81818182\n",
      "  291795.45454545  303159.09090909  303386.36363636  302931.81818182\n",
      "  307113.63636364  298522.72727273  300113.63636364  297068.18181818\n",
      "  302522.72727273  307977.27272727  319340.90909091  314022.72727273\n",
      "  318681.81818182  311181.81818182  315272.72727273  318954.54545455\n",
      "  320772.72727273  304954.54545455  300181.81818182  291397.27272727\n",
      "  300488.18181818  299692.72727273  293715.45454545  285760.90909091\n",
      "  275192.72727273  268715.45454545  266760.90909091  269124.31818182\n",
      "  270487.95454545  268815.68181818  259270.22727273  261997.5\n",
      "  254838.40909091  259838.40909091  256111.13636364  258656.59090909\n",
      "  255292.95454545  260292.95454545  259838.40909091  262702.04545455\n",
      "  256542.95454545  254282.04545455  246100.22727273  236895.68181818\n",
      "  238327.5         238191.13636364  238304.77272727  246327.5\n",
      "  242282.04545455  239782.27272727  244327.72727273  247000.\n",
      "  254590.90909091  253681.81818182  254295.45454545  252022.72727273\n",
      "  255522.72727273  258659.09090909  261659.09090909  261613.63636364\n",
      "  256272.72727273  253659.09090909  254136.36363636  262295.45454545\n",
      "  267750.          270931.81818182  268090.90909091  268000.          269250.\n",
      "  262159.09090909  269704.54545455  276750.          283113.63636364\n",
      "  279250.          274613.63636364  275795.45454545  275068.18181818\n",
      "  276431.81818182  273022.72727273  269750.          262250.\n",
      "  252590.90909091  258477.27272727  258227.27272727  252090.90909091\n",
      "  243977.27272727  242386.36363636  243295.45454545  241818.18181818\n",
      "  245681.81818182  246795.45454545  248250.          242795.45454545\n",
      "  233522.72727273  217159.09090909  217159.09090909  212386.36363636\n",
      "  218022.72727273  223477.27272727  219890.90909091  221072.72727273\n",
      "  228436.36363636  228754.54545455  236640.90909091  238822.72727273\n",
      "  238959.09090909  237595.45454545  238595.45454545  233368.18181818\n",
      "  228186.36363636  227504.54545455  224095.45454545  231959.09090909\n",
      "  229004.54545455  228209.09090909  228277.27272727  230322.72727273\n",
      "  228390.90909091  228277.27272727  217822.72727273  210061.36363636\n",
      "  211147.72727273  212125.          201443.18181818  203943.18181818\n",
      "  196579.54545455  188170.45454545  186125.          192715.90909091\n",
      "  197170.45454545  200579.54545455  204034.09090909  207897.72727273\n",
      "  208579.54545455  198465.90909091  199602.27272727  199034.09090909\n",
      "  209375.          212556.81818182  212670.45454545  211420.45454545\n",
      "  212784.09090909  210318.18181818  211454.54545455  211113.63636364\n",
      "  209977.27272727  206386.36363636  208750.          211477.27272727\n",
      "  218068.18181818  218522.72727273  218613.63636364  220465.90909091\n",
      "  219920.45454545  213784.09090909  217875.          218147.72727273\n",
      "  227238.63636364  231329.31818182  225647.27272727].\n",
      "\n",
      "The size of SMA is 220 elements.\n",
      "\n",
      "Index of SMA column in a dataframe is 7.\n",
      "\n",
      "          TOWN                                  ADDRESS  Times sold  \\\n",
      "139  Liverpool  Liverpool HILL ICON BUILDING 39 FLAT 77           2   \n",
      "98   Liverpool                           GREEN LANE 40            2   \n",
      "13   Liverpool                           AUDREY ROAD 7            2   \n",
      "220  Liverpool                       SELBORNE ROAD 11B            2   \n",
      "24   Liverpool                          BENTON ROAD 18            2   \n",
      "226  Liverpool                   SOUTH PARK CRESCENT 2            2   \n",
      "230  Liverpool                        STAINES ROAD 244            2   \n",
      "155  Liverpool                       KINGSTON ROAD 266            2   \n",
      "228  Liverpool                        ST MARYS ROAD 32            2   \n",
      "41   Liverpool   CENTREWAY APARTMENTS CITY VIEW FLAT 85           2   \n",
      "55   Liverpool                       COVENTRY ROAD 295            2   \n",
      "253  Liverpool                       VICARAGE LANE 83A            2   \n",
      "234  Liverpool                         STAINES ROAD 76            2   \n",
      "151  Liverpool                          JERSEY ROAD 16            2   \n",
      "97   Liverpool                           GREEN LANE 40            2   \n",
      "225  Liverpool                   SOUTH PARK CRESCENT 2            2   \n",
      "186  Liverpool                 OAKLANDS PARK AVENUE 50            2   \n",
      "77   Liverpool                            ETON ROAD 59            2   \n",
      "32   Liverpool      BRITANNIA ROAD 20 GROUND FLOOR FLAT           2   \n",
      "236  Liverpool                       STANLEY ROAD 120B            2   \n",
      "127  Liverpool     HIGH ROAD RAPHAEL HOUSE 250 FLAT 412           2   \n",
      "262  Liverpool                         WINGATE ROAD 19            2   \n",
      "125  Liverpool    HIGH ROAD RAPHAEL HOUSE 250 FLAT 1901           3   \n",
      "216  Liverpool                           SAXON ROAD 36            2   \n",
      "210  Liverpool                       ROYSTON PARADE 29            2   \n",
      "\n",
      "                    Date  Days after 1st timestamp  Sold date  Sold price  \\\n",
      "139  2018-04-27 00:00:00                      3760  4-27-2018      365000   \n",
      "98   2018-04-26 00:00:00                      3759  4-26-2018      375000   \n",
      "13   2018-04-20 00:00:00                      3753  4-20-2018      430000   \n",
      "220  2018-04-20 00:00:00                      3753  4-20-2018      300000   \n",
      "24   2018-04-06 00:00:00                      3739   4-6-2018      260000   \n",
      "226  2018-03-26 00:00:00                      3728  3-26-2018      413000   \n",
      "230  2018-03-23 00:00:00                      3725  3-23-2018      220000   \n",
      "155  2018-03-23 00:00:00                      3725  3-23-2018      405000   \n",
      "228  2018-03-16 00:00:00                      3718  3-16-2018      390000   \n",
      "41   2018-03-12 00:00:00                      3714  3-12-2018      237000   \n",
      "55   2018-03-08 00:00:00                      3710   3-8-2018      475000   \n",
      "253  2018-02-28 00:00:00                      3702  2-28-2018      250000   \n",
      "234  2018-02-23 00:00:00                      3697  2-23-2018      383000   \n",
      "151  2018-02-13 00:00:00                      3687  2-13-2018      387500   \n",
      "97   2018-02-12 00:00:00                      3686  2-12-2018      292500   \n",
      "225  2018-02-06 00:00:00                      3680   2-6-2018      350000   \n",
      "186  2018-02-05 00:00:00                      3679   2-5-2018      284000   \n",
      "77   2018-01-31 00:00:00                      3674  1-31-2018      400000   \n",
      "32   2018-01-26 00:00:00                      3669  1-26-2018      253000   \n",
      "236  2018-01-22 00:00:00                      3665  1-22-2018      228000   \n",
      "127  2018-01-19 00:00:00                      3662  1-19-2018      250000   \n",
      "262  2018-01-19 00:00:00                      3662  1-19-2018      337900   \n",
      "125  2018-01-19 00:00:00                      3662  1-19-2018      340000   \n",
      "216  2018-01-15 00:00:00                      3658  1-15-2018      375000   \n",
      "210  2018-01-15 00:00:00                      3658  1-15-2018      520000   \n",
      "\n",
      "        SMA  \n",
      "139    None  \n",
      "98     None  \n",
      "13     None  \n",
      "220    None  \n",
      "24     None  \n",
      "226    None  \n",
      "230    None  \n",
      "155    None  \n",
      "228    None  \n",
      "41     None  \n",
      "55     None  \n",
      "253    None  \n",
      "234    None  \n",
      "151    None  \n",
      "97     None  \n",
      "225    None  \n",
      "186    None  \n",
      "77     None  \n",
      "32     None  \n",
      "236    None  \n",
      "127    None  \n",
      "262    None  \n",
      "125  331177  \n",
      "216  330041  \n",
      "210  330041  \n",
      "\n",
      "Columns are: Index(['TOWN', 'ADDRESS', 'Times sold', 'Date', 'Days after 1st timestamp',\n",
      "       'Sold date', 'Sold price', 'SMA'],\n",
      "      dtype='object').\n"
     ]
    },
    {
     "data": {
      "image/png": "[encoded data removed]",
      "text/plain": [
       "<matplotlib.figure.Figure at 0x13603c90>"
      ]
     },
     "metadata": {},
     "output_type": "display_data"
    }
   ],
   "source": [
    "step = 22\n",
    "\n",
    "sma = moving_average(df_cleaned['Sold price'].values, step)\n",
    "print('Values of SMA are:\\n{}.\\n\\nThe size of SMA is {} elements.'.format(sma,\n",
    "                                                                       len(sma)))\n",
    "\n",
    "df_cleaned = add_SMA_to_df(step, sma, df_cleaned)\n",
    "plot_SMA(df_cleaned, step, area)"
   ]
  },
  {
   "cell_type": "markdown",
   "metadata": {
    "deletable": true,
    "editable": true
   },
   "source": [
    "<h3>#2.10 Save the output to CSV file</h3>"
   ]
  },
  {
   "cell_type": "code",
   "execution_count": 29,
   "metadata": {
    "collapsed": true,
    "deletable": true,
    "editable": true
   },
   "outputs": [],
   "source": [
    "df_cleaned.to_csv('{} (cleaned)_after.csv'.format(area))"
   ]
  },
  {
   "cell_type": "markdown",
   "metadata": {
    "deletable": true,
    "editable": true
   },
   "source": [
    "<h3>#2.11 Removing first <code>step</code> rows for Regression Analysis</h3>"
   ]
  },
  {
   "cell_type": "code",
   "execution_count": 30,
   "metadata": {
    "collapsed": false,
    "deletable": true,
    "editable": true
   },
   "outputs": [
    {
     "name": "stdout",
     "output_type": "stream",
     "text": [
      "\n",
      "The dataframe after removing empty rows is:\n",
      "          TOWN                                ADDRESS  Times sold  \\\n",
      "125  Liverpool  HIGH ROAD RAPHAEL HOUSE 250 FLAT 1901           3   \n",
      "216  Liverpool                         SAXON ROAD 36            2   \n",
      "210  Liverpool                     ROYSTON PARADE 29            2   \n",
      "53   Liverpool                    COVENTRY ROAD 140A            2   \n",
      "104  Liverpool                      HAMPTON ROAD 241            2   \n",
      "\n",
      "                    Date  Days after 1st timestamp   Sold date  Sold price  \\\n",
      "125  2018-01-19 00:00:00                      3662   1-19-2018      340000   \n",
      "216  2018-01-15 00:00:00                      3658   1-15-2018      375000   \n",
      "210  2018-01-15 00:00:00                      3658   1-15-2018      520000   \n",
      "53   2018-01-11 00:00:00                      3654   1-11-2018      234000   \n",
      "104  2017-12-18 00:00:00                      3630  12-18-2017      200000   \n",
      "\n",
      "        SMA  \n",
      "125  331177  \n",
      "216  330041  \n",
      "210  330041  \n",
      "53   334132  \n",
      "104  331132  .\n"
     ]
    },
    {
     "name": "stderr",
     "output_type": "stream",
     "text": [
      "c:\\users\\vytautas\\appdata\\local\\programs\\python\\python35-32\\lib\\site-packages\\ipykernel\\__main__.py:4: SettingWithCopyWarning: \n",
      "A value is trying to be set on a copy of a slice from a DataFrame\n",
      "\n",
      "See the caveats in the documentation: http://pandas.pydata.org/pandas-docs/stable/indexing.html#indexing-view-versus-copy\n"
     ]
    }
   ],
   "source": [
    "df_cleaned.head(step+5)\n",
    "\n",
    "# Dropping first <step> rows for Regression analysis\n",
    "df_cleaned.drop(df_cleaned.head(step).index, inplace = True)\n",
    "print('\\nThe dataframe after removing empty rows is:\\n{}.'.format(df_cleaned.head(5)))"
   ]
  },
  {
   "cell_type": "markdown",
   "metadata": {
    "deletable": true,
    "editable": true
   },
   "source": [
    "<h2>Regression Analysis</h2>"
   ]
  },
  {
   "cell_type": "markdown",
   "metadata": {
    "collapsed": true,
    "deletable": true,
    "editable": true
   },
   "source": [
    "<h2>#3 Linear regression analysis</h2>"
   ]
  },
  {
   "cell_type": "markdown",
   "metadata": {
    "deletable": true,
    "editable": true
   },
   "source": [
    "<h3>#3.1 Import modules </h3>"
   ]
  },
  {
   "cell_type": "code",
   "execution_count": 34,
   "metadata": {
    "collapsed": false,
    "deletable": true,
    "editable": true
   },
   "outputs": [],
   "source": [
    "# Import module for linear regression\n",
    "import statsmodels.api as sm"
   ]
  },
  {
   "cell_type": "markdown",
   "metadata": {
    "deletable": true,
    "editable": true
   },
   "source": [
    "<h3>#3.2 Set <code>X</code> and <code>y</code> varianbles</h3>"
   ]
  },
  {
   "cell_type": "code",
   "execution_count": 35,
   "metadata": {
    "collapsed": true,
    "deletable": true,
    "editable": true
   },
   "outputs": [],
   "source": [
    "X = df_cleaned['Days after 1st timestamp']\n",
    "y = np.asarray(df_cleaned['SMA'].values)"
   ]
  },
  {
   "cell_type": "code",
   "execution_count": 36,
   "metadata": {
    "collapsed": false,
    "deletable": true,
    "editable": true
   },
   "outputs": [
    {
     "name": "stdout",
     "output_type": "stream",
     "text": [
      "Index(['TOWN', 'ADDRESS', 'Times sold', 'Date', 'Days after 1st timestamp',\n",
      "       'Sold date', 'Sold price', 'SMA'],\n",
      "      dtype='object')\n",
      "330040.909091\n"
     ]
    },
    {
     "data": {
      "text/plain": [
       "(None, numpy.float64)"
      ]
     },
     "execution_count": 36,
     "metadata": {},
     "output_type": "execute_result"
    }
   ],
   "source": [
    "print(df_cleaned.columns)\n",
    "print(df_cleaned.iat[2, 7]), type(df_cleaned.iat[2, 7])"
   ]
  },
  {
   "cell_type": "markdown",
   "metadata": {
    "deletable": true,
    "editable": true
   },
   "source": [
    "<p>Let's add an intercept <code>beta_0</code> to our model.</p>"
   ]
  },
  {
   "cell_type": "code",
   "execution_count": 37,
   "metadata": {
    "collapsed": true,
    "deletable": true,
    "editable": true
   },
   "outputs": [],
   "source": [
    "X = sm.add_constant(X)"
   ]
  },
  {
   "cell_type": "code",
   "execution_count": 38,
   "metadata": {
    "collapsed": false,
    "deletable": true,
    "editable": true
   },
   "outputs": [
    {
     "name": "stdout",
     "output_type": "stream",
     "text": [
      "     const  Days after 1st timestamp\n",
      "125    1.0                      3662\n",
      "216    1.0                      3658\n",
      "210    1.0                      3658\n"
     ]
    }
   ],
   "source": [
    "print(X.head(3))"
   ]
  },
  {
   "cell_type": "markdown",
   "metadata": {
    "deletable": true,
    "editable": true
   },
   "source": [
    "<h3>#3.3 Note the difference in argument order</h3>"
   ]
  },
  {
   "cell_type": "code",
   "execution_count": 39,
   "metadata": {
    "collapsed": true,
    "deletable": true,
    "editable": true
   },
   "outputs": [],
   "source": [
    "model = sm.OLS(y.astype(float), X.astype(float)).fit()"
   ]
  },
  {
   "cell_type": "code",
   "execution_count": 40,
   "metadata": {
    "collapsed": true,
    "deletable": true,
    "editable": true
   },
   "outputs": [],
   "source": [
    "predictions = model.predict(X)"
   ]
  },
  {
   "cell_type": "code",
   "execution_count": 41,
   "metadata": {
    "collapsed": false,
    "deletable": true,
    "editable": true
   },
   "outputs": [
    {
     "name": "stdout",
     "output_type": "stream",
     "text": [
      "125    302611.921675\n",
      "216    302493.811690\n",
      "210    302493.811690\n",
      "53     302375.701706\n",
      "104    301667.041800\n",
      "dtype: float64\n"
     ]
    }
   ],
   "source": [
    "print(predictions.head(5))"
   ]
  },
  {
   "cell_type": "markdown",
   "metadata": {
    "deletable": true,
    "editable": true
   },
   "source": [
    "<h3>#3.4 Print the model statistics</h3>"
   ]
  },
  {
   "cell_type": "code",
   "execution_count": 42,
   "metadata": {
    "collapsed": false,
    "deletable": true,
    "editable": true
   },
   "outputs": [
    {
     "data": {
      "text/html": [
       "<table class=\"simpletable\">\n",
       "<caption>OLS Regression Results</caption>\n",
       "<tr>\n",
       "  <th>Dep. Variable:</th>            <td>y</td>        <th>  R-squared:         </th> <td>   0.764</td>\n",
       "</tr>\n",
       "<tr>\n",
       "  <th>Model:</th>                   <td>OLS</td>       <th>  Adj. R-squared:    </th> <td>   0.763</td>\n",
       "</tr>\n",
       "<tr>\n",
       "  <th>Method:</th>             <td>Least Squares</td>  <th>  F-statistic:       </th> <td>   704.3</td>\n",
       "</tr>\n",
       "<tr>\n",
       "  <th>Date:</th>             <td>Tue, 24 Jul 2018</td> <th>  Prob (F-statistic):</th> <td>4.56e-70</td>\n",
       "</tr>\n",
       "<tr>\n",
       "  <th>Time:</th>                 <td>21:31:11</td>     <th>  Log-Likelihood:    </th> <td> -2481.9</td>\n",
       "</tr>\n",
       "<tr>\n",
       "  <th>No. Observations:</th>      <td>   219</td>      <th>  AIC:               </th> <td>   4968.</td>\n",
       "</tr>\n",
       "<tr>\n",
       "  <th>Df Residuals:</th>          <td>   217</td>      <th>  BIC:               </th> <td>   4975.</td>\n",
       "</tr>\n",
       "<tr>\n",
       "  <th>Df Model:</th>              <td>     1</td>      <th>                     </th>     <td> </td>   \n",
       "</tr>\n",
       "<tr>\n",
       "  <th>Covariance Type:</th>      <td>nonrobust</td>    <th>                     </th>     <td> </td>   \n",
       "</tr>\n",
       "</table>\n",
       "<table class=\"simpletable\">\n",
       "<tr>\n",
       "              <td></td>                <th>coef</th>     <th>std err</th>      <th>t</th>      <th>P>|t|</th>  <th>[0.025</th>    <th>0.975]</th>  \n",
       "</tr>\n",
       "<tr>\n",
       "  <th>const</th>                    <td> 1.945e+05</td> <td> 3040.367</td> <td>   63.967</td> <td> 0.000</td> <td> 1.88e+05</td> <td>    2e+05</td>\n",
       "</tr>\n",
       "<tr>\n",
       "  <th>Days after 1st timestamp</th> <td>   29.5275</td> <td>    1.113</td> <td>   26.539</td> <td> 0.000</td> <td>   27.335</td> <td>   31.720</td>\n",
       "</tr>\n",
       "</table>\n",
       "<table class=\"simpletable\">\n",
       "<tr>\n",
       "  <th>Omnibus:</th>       <td>15.519</td> <th>  Durbin-Watson:     </th> <td>   0.072</td>\n",
       "</tr>\n",
       "<tr>\n",
       "  <th>Prob(Omnibus):</th> <td> 0.000</td> <th>  Jarque-Bera (JB):  </th> <td>  11.450</td>\n",
       "</tr>\n",
       "<tr>\n",
       "  <th>Skew:</th>          <td>-0.449</td> <th>  Prob(JB):          </th> <td> 0.00326</td>\n",
       "</tr>\n",
       "<tr>\n",
       "  <th>Kurtosis:</th>      <td> 2.330</td> <th>  Cond. No.          </th> <td>6.06e+03</td>\n",
       "</tr>\n",
       "</table><br/><br/>Warnings:<br/>[1] Standard Errors assume that the covariance matrix of the errors is correctly specified.<br/>[2] The condition number is large, 6.06e+03. This might indicate that there are<br/>strong multicollinearity or other numerical problems."
      ],
      "text/plain": [
       "<class 'statsmodels.iolib.summary.Summary'>\n",
       "\"\"\"\n",
       "                            OLS Regression Results                            \n",
       "==============================================================================\n",
       "Dep. Variable:                      y   R-squared:                       0.764\n",
       "Model:                            OLS   Adj. R-squared:                  0.763\n",
       "Method:                 Least Squares   F-statistic:                     704.3\n",
       "Date:                Tue, 24 Jul 2018   Prob (F-statistic):           4.56e-70\n",
       "Time:                        21:31:11   Log-Likelihood:                -2481.9\n",
       "No. Observations:                 219   AIC:                             4968.\n",
       "Df Residuals:                     217   BIC:                             4975.\n",
       "Df Model:                           1                                         \n",
       "Covariance Type:            nonrobust                                         \n",
       "============================================================================================\n",
       "                               coef    std err          t      P>|t|      [0.025      0.975]\n",
       "--------------------------------------------------------------------------------------------\n",
       "const                     1.945e+05   3040.367     63.967      0.000    1.88e+05       2e+05\n",
       "Days after 1st timestamp    29.5275      1.113     26.539      0.000      27.335      31.720\n",
       "==============================================================================\n",
       "Omnibus:                       15.519   Durbin-Watson:                   0.072\n",
       "Prob(Omnibus):                  0.000   Jarque-Bera (JB):               11.450\n",
       "Skew:                          -0.449   Prob(JB):                      0.00326\n",
       "Kurtosis:                       2.330   Cond. No.                     6.06e+03\n",
       "==============================================================================\n",
       "\n",
       "Warnings:\n",
       "[1] Standard Errors assume that the covariance matrix of the errors is correctly specified.\n",
       "[2] The condition number is large, 6.06e+03. This might indicate that there are\n",
       "strong multicollinearity or other numerical problems.\n",
       "\"\"\""
      ]
     },
     "execution_count": 42,
     "metadata": {},
     "output_type": "execute_result"
    }
   ],
   "source": [
    "model.summary()"
   ]
  },
  {
   "cell_type": "markdown",
   "metadata": {
    "deletable": true,
    "editable": true
   },
   "source": [
    "<p>Extract parameters from model summary to build an equation for Linear Regression Analysis:</p>"
   ]
  },
  {
   "cell_type": "code",
   "execution_count": 43,
   "metadata": {
    "collapsed": false,
    "deletable": true,
    "editable": true
   },
   "outputs": [],
   "source": [
    "param_1 = model.params[0]\n",
    "param_2 = model.params[1]"
   ]
  },
  {
   "cell_type": "code",
   "execution_count": 44,
   "metadata": {
    "collapsed": false,
    "deletable": true,
    "editable": true
   },
   "outputs": [
    {
     "name": "stdout",
     "output_type": "stream",
     "text": [
      "The current model explain 76.45 % of dataset.\n",
      "The equation for Linear Regression Analysis is:\n",
      "y = 194482.23 + 29.53 × X.\n"
     ]
    }
   ],
   "source": [
    "print('The current model explain {:0.2f} % of dataset.'.format(model.rsquared * 100.0))\n",
    "print('The equation for Linear Regression Analysis is:\\ny = {:0.2f} + {:0.2f} × X.'.format(model.params[0],\n",
    "                                                                   model.params[1]))"
   ]
  },
  {
   "cell_type": "markdown",
   "metadata": {
    "deletable": true,
    "editable": true
   },
   "source": [
    "<h2>#4 Visualize trend for Linear Regression</h2>"
   ]
  },
  {
   "cell_type": "code",
   "execution_count": 45,
   "metadata": {
    "collapsed": true,
    "deletable": true,
    "editable": true
   },
   "outputs": [],
   "source": [
    "def visualize_trend(df, param_1, param_2, area):\n",
    "    \n",
    "    #-------------------------------------------\n",
    "    def add_trend_values(df, param_1, param_2):\n",
    "        \n",
    "        try:\n",
    "            df.insert(len(df.columns), 'Trend values', None)\n",
    "        except:\n",
    "            print('The column already exist.\\n')\n",
    "            \n",
    "        index_of_trend = df.columns.get_loc('Trend values')\n",
    "        index_of_day = df.columns.get_loc('Days after 1st timestamp')\n",
    "        \n",
    "        for row in range(0, len(df), 1):\n",
    "            df.iat[row, index_of_trend] = param_1 + df.iat[row, index_of_day] * param_2\n",
    "            \n",
    "        print('\\n*** Trend values added! ***')\n",
    "        return df\n",
    "    #--------------------------------------------\n",
    "    \n",
    "    \"\"\"\n",
    "    args:\n",
    "        df - dataframe after data pre-proceessing\n",
    "        param_1 - constant\n",
    "        param_2 - coefficient (multiplier)\n",
    "    \"\"\"\n",
    "    \n",
    "    df = add_trend_values(df, param_1, param_2)\n",
    "    \n",
    "    # Set the labels for plots\n",
    "    title = 'Price changes in {} (© UK Land Registry API)\\n(Moving Average, step = {} days.\\n+ Trend line for Linear Regression Analysis'.format(area,\n",
    "                                                                                                                                                 step)\n",
    "    x_label = 'Sold date'\n",
    "    y_label = 'Sold price (£)'\n",
    "    \n",
    "    \n",
    "    \n",
    "    timeline_1 = pd.Series(df['Sold price'].values, index = df['Date'])\n",
    "    timeline_2 = pd.Series(df['SMA'].values, index = df['Date'])\n",
    "    timeline_3 = pd.Series(df['Trend values'].values, index = df['Date'])\n",
    "    \n",
    "    plt.figure(figsize=(8,5))\n",
    "    plt.title(title)\n",
    "    plt.xlabel(x_label)\n",
    "    plt.ylabel(y_label)\n",
    "    \n",
    "    timeline_1.plot(style = 'k.', c = '#113b6c')\n",
    "    timeline_2.plot(c = '#b348d2')\n",
    "    timeline_3.plot(c = '#b50804')\n",
    "    \n",
    "    plt.show()      \n",
    "    \n",
    "    return None"
   ]
  },
  {
   "cell_type": "code",
   "execution_count": 46,
   "metadata": {
    "collapsed": false,
    "deletable": true,
    "editable": true
   },
   "outputs": [
    {
     "name": "stdout",
     "output_type": "stream",
     "text": [
      "\n",
      "*** Trend values added! ***\n"
     ]
    },
    {
     "data": {
      "image/png": "[encoded data removed]",
      "text/plain": [
       "<matplotlib.figure.Figure at 0x13c1d130>"
      ]
     },
     "metadata": {},
     "output_type": "display_data"
    }
   ],
   "source": [
    "visualize_trend(df_cleaned, param_1, param_2, area)"
   ]
  },
  {
   "cell_type": "markdown",
   "metadata": {
    "deletable": true,
    "editable": true
   },
   "source": [
    "<h2>#5 Determine additional metrics for the model</h2>"
   ]
  },
  {
   "cell_type": "markdown",
   "metadata": {
    "deletable": true,
    "editable": true
   },
   "source": [
    "<h3>#5.1 Calculate Pearson correlation coefficient</h3>"
   ]
  },
  {
   "cell_type": "code",
   "execution_count": 47,
   "metadata": {
    "collapsed": true,
    "deletable": true,
    "editable": true
   },
   "outputs": [],
   "source": [
    "# For getting Pearson correlation coeficient I use scipy library.\n",
    "# It provide easy controlling and flexible functions to get values of stat. params.\n",
    "from scipy import stats"
   ]
  },
  {
   "cell_type": "code",
   "execution_count": 48,
   "metadata": {
    "collapsed": false,
    "deletable": true,
    "editable": true
   },
   "outputs": [
    {
     "name": "stdout",
     "output_type": "stream",
     "text": [
      "The Pearson correlation coefficient for the model is 0.874.\n"
     ]
    }
   ],
   "source": [
    "pearson = stats.pearsonr(df_cleaned['SMA'].values, df_cleaned['Days after 1st timestamp'].values)\n",
    "print('The Pearson correlation coefficient for the model is {:0.3f}.'.format(pearson[0]))"
   ]
  }
 ],
 "metadata": {
  "kernelspec": {
   "display_name": "Python 3",
   "language": "python",
   "name": "python3"
  },
  "language_info": {
   "codemirror_mode": {
    "name": "ipython",
    "version": 3
   },
   "file_extension": ".py",
   "mimetype": "text/x-python",
   "name": "python",
   "nbconvert_exporter": "python",
   "pygments_lexer": "ipython3",
   "version": "3.5.2"
  }
 },
 "nbformat": 4,
 "nbformat_minor": 2
}
